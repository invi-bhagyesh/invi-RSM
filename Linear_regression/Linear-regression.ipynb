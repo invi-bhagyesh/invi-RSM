{
 "cells": [
  {
   "cell_type": "markdown",
   "metadata": {},
   "source": [
    "import necessary libraries"
   ]
  },
  {
   "cell_type": "code",
   "execution_count": 403,
   "metadata": {},
   "outputs": [],
   "source": [
    "import matplotlib.pyplot as plt\n",
    "import numpy as np\n",
    "import pandas as pd"
   ]
  },
  {
   "cell_type": "markdown",
   "metadata": {},
   "source": [
    " Step 1: Load the Dataset"
   ]
  },
  {
   "cell_type": "code",
   "execution_count": 404,
   "metadata": {},
   "outputs": [
    {
     "name": "stdout",
     "output_type": "stream",
     "text": [
      "Warning: Looks like you're using an outdated `kagglehub` version, please consider updating (latest version: 0.3.6)\n",
      "Path to dataset files: /Users/invi/.cache/kagglehub/datasets/fratzcan/usa-house-prices/versions/1\n"
     ]
    }
   ],
   "source": [
    "import kagglehub\n",
    "\n",
    "# Download latest version\n",
    "path = kagglehub.dataset_download(\"fratzcan/usa-house-prices\")\n",
    "\n",
    "print(\"Path to dataset files:\", path)"
   ]
  },
  {
   "cell_type": "code",
   "execution_count": 405,
   "metadata": {},
   "outputs": [],
   "source": [
    "dt = pd.read_csv('/Users/invi/.cache/kagglehub/datasets/fratzcan/usa-house-prices/versions/1/USA Housing Dataset.csv')"
   ]
  },
  {
   "cell_type": "code",
   "execution_count": 406,
   "metadata": {},
   "outputs": [
    {
     "data": {
      "text/html": [
       "<div>\n",
       "<style scoped>\n",
       "    .dataframe tbody tr th:only-of-type {\n",
       "        vertical-align: middle;\n",
       "    }\n",
       "\n",
       "    .dataframe tbody tr th {\n",
       "        vertical-align: top;\n",
       "    }\n",
       "\n",
       "    .dataframe thead th {\n",
       "        text-align: right;\n",
       "    }\n",
       "</style>\n",
       "<table border=\"1\" class=\"dataframe\">\n",
       "  <thead>\n",
       "    <tr style=\"text-align: right;\">\n",
       "      <th></th>\n",
       "      <th>date</th>\n",
       "      <th>price</th>\n",
       "      <th>bedrooms</th>\n",
       "      <th>bathrooms</th>\n",
       "      <th>sqft_living</th>\n",
       "      <th>sqft_lot</th>\n",
       "      <th>floors</th>\n",
       "      <th>waterfront</th>\n",
       "      <th>view</th>\n",
       "      <th>condition</th>\n",
       "      <th>sqft_above</th>\n",
       "      <th>sqft_basement</th>\n",
       "      <th>yr_built</th>\n",
       "      <th>yr_renovated</th>\n",
       "      <th>street</th>\n",
       "      <th>city</th>\n",
       "      <th>statezip</th>\n",
       "      <th>country</th>\n",
       "    </tr>\n",
       "  </thead>\n",
       "  <tbody>\n",
       "    <tr>\n",
       "      <th>0</th>\n",
       "      <td>2014-05-09 00:00:00</td>\n",
       "      <td>376000.0</td>\n",
       "      <td>3.0</td>\n",
       "      <td>2.00</td>\n",
       "      <td>1340</td>\n",
       "      <td>1384</td>\n",
       "      <td>3.0</td>\n",
       "      <td>0</td>\n",
       "      <td>0</td>\n",
       "      <td>3</td>\n",
       "      <td>1340</td>\n",
       "      <td>0</td>\n",
       "      <td>2008</td>\n",
       "      <td>0</td>\n",
       "      <td>9245-9249 Fremont Ave N</td>\n",
       "      <td>Seattle</td>\n",
       "      <td>WA 98103</td>\n",
       "      <td>USA</td>\n",
       "    </tr>\n",
       "    <tr>\n",
       "      <th>1</th>\n",
       "      <td>2014-05-09 00:00:00</td>\n",
       "      <td>800000.0</td>\n",
       "      <td>4.0</td>\n",
       "      <td>3.25</td>\n",
       "      <td>3540</td>\n",
       "      <td>159430</td>\n",
       "      <td>2.0</td>\n",
       "      <td>0</td>\n",
       "      <td>0</td>\n",
       "      <td>3</td>\n",
       "      <td>3540</td>\n",
       "      <td>0</td>\n",
       "      <td>2007</td>\n",
       "      <td>0</td>\n",
       "      <td>33001 NE 24th St</td>\n",
       "      <td>Carnation</td>\n",
       "      <td>WA 98014</td>\n",
       "      <td>USA</td>\n",
       "    </tr>\n",
       "    <tr>\n",
       "      <th>2</th>\n",
       "      <td>2014-05-09 00:00:00</td>\n",
       "      <td>2238888.0</td>\n",
       "      <td>5.0</td>\n",
       "      <td>6.50</td>\n",
       "      <td>7270</td>\n",
       "      <td>130017</td>\n",
       "      <td>2.0</td>\n",
       "      <td>0</td>\n",
       "      <td>0</td>\n",
       "      <td>3</td>\n",
       "      <td>6420</td>\n",
       "      <td>850</td>\n",
       "      <td>2010</td>\n",
       "      <td>0</td>\n",
       "      <td>7070 270th Pl SE</td>\n",
       "      <td>Issaquah</td>\n",
       "      <td>WA 98029</td>\n",
       "      <td>USA</td>\n",
       "    </tr>\n",
       "    <tr>\n",
       "      <th>3</th>\n",
       "      <td>2014-05-09 00:00:00</td>\n",
       "      <td>324000.0</td>\n",
       "      <td>3.0</td>\n",
       "      <td>2.25</td>\n",
       "      <td>998</td>\n",
       "      <td>904</td>\n",
       "      <td>2.0</td>\n",
       "      <td>0</td>\n",
       "      <td>0</td>\n",
       "      <td>3</td>\n",
       "      <td>798</td>\n",
       "      <td>200</td>\n",
       "      <td>2007</td>\n",
       "      <td>0</td>\n",
       "      <td>820 NW 95th St</td>\n",
       "      <td>Seattle</td>\n",
       "      <td>WA 98117</td>\n",
       "      <td>USA</td>\n",
       "    </tr>\n",
       "    <tr>\n",
       "      <th>4</th>\n",
       "      <td>2014-05-10 00:00:00</td>\n",
       "      <td>549900.0</td>\n",
       "      <td>5.0</td>\n",
       "      <td>2.75</td>\n",
       "      <td>3060</td>\n",
       "      <td>7015</td>\n",
       "      <td>1.0</td>\n",
       "      <td>0</td>\n",
       "      <td>0</td>\n",
       "      <td>5</td>\n",
       "      <td>1600</td>\n",
       "      <td>1460</td>\n",
       "      <td>1979</td>\n",
       "      <td>0</td>\n",
       "      <td>10834 31st Ave SW</td>\n",
       "      <td>Seattle</td>\n",
       "      <td>WA 98146</td>\n",
       "      <td>USA</td>\n",
       "    </tr>\n",
       "  </tbody>\n",
       "</table>\n",
       "</div>"
      ],
      "text/plain": [
       "                  date      price  bedrooms  bathrooms  sqft_living  sqft_lot  \\\n",
       "0  2014-05-09 00:00:00   376000.0       3.0       2.00         1340      1384   \n",
       "1  2014-05-09 00:00:00   800000.0       4.0       3.25         3540    159430   \n",
       "2  2014-05-09 00:00:00  2238888.0       5.0       6.50         7270    130017   \n",
       "3  2014-05-09 00:00:00   324000.0       3.0       2.25          998       904   \n",
       "4  2014-05-10 00:00:00   549900.0       5.0       2.75         3060      7015   \n",
       "\n",
       "   floors  waterfront  view  condition  sqft_above  sqft_basement  yr_built  \\\n",
       "0     3.0           0     0          3        1340              0      2008   \n",
       "1     2.0           0     0          3        3540              0      2007   \n",
       "2     2.0           0     0          3        6420            850      2010   \n",
       "3     2.0           0     0          3         798            200      2007   \n",
       "4     1.0           0     0          5        1600           1460      1979   \n",
       "\n",
       "   yr_renovated                   street       city  statezip country  \n",
       "0             0  9245-9249 Fremont Ave N    Seattle  WA 98103     USA  \n",
       "1             0         33001 NE 24th St  Carnation  WA 98014     USA  \n",
       "2             0         7070 270th Pl SE   Issaquah  WA 98029     USA  \n",
       "3             0           820 NW 95th St    Seattle  WA 98117     USA  \n",
       "4             0        10834 31st Ave SW    Seattle  WA 98146     USA  "
      ]
     },
     "execution_count": 406,
     "metadata": {},
     "output_type": "execute_result"
    }
   ],
   "source": [
    "dt.head()"
   ]
  },
  {
   "cell_type": "markdown",
   "metadata": {},
   "source": [
    "Step 2: Select Numerical Features"
   ]
  },
  {
   "cell_type": "code",
   "execution_count": 407,
   "metadata": {},
   "outputs": [],
   "source": [
    "dt = dt.drop(columns=['date', 'street', 'city', 'statezip', 'country'])\n"
   ]
  },
  {
   "cell_type": "markdown",
   "metadata": {},
   "source": [
    "Step 3: Split Features  and Target"
   ]
  },
  {
   "cell_type": "code",
   "execution_count": 408,
   "metadata": {},
   "outputs": [],
   "source": [
    "target_column = 'price'\n",
    "\n",
    "# Shuffle and split the data\n",
    "shuffled_indices = np.random.permutation(len(dt))\n",
    "split_index = int(len(dt) * 0.8)\n",
    "train_data, test_data = dt.iloc[shuffled_indices[:split_index]], dt.iloc[shuffled_indices[split_index:]]\n",
    "\n",
    "# Separate features and target variable\n",
    "x_train, y_train = train_data.drop(target_column, axis=1), train_data[target_column].values.reshape(-1, 1)\n",
    "x_test, y_test = test_data.drop(target_column, axis=1), test_data[target_column].values.reshape(-1, 1)\n",
    "\n",
    "# Z-score normalization\n",
    "x_train_mean, x_train_std = np.mean(x_train, axis=0), np.std(x_train, axis=0)\n",
    "x_test_normalized = (x_test - x_train_mean) / x_train_std\n",
    "x_train_normalized = (x_train - x_train_mean) / x_train_std\n",
    "\n",
    "# Normalizing target variable \n",
    "y_train_mean, y_train_std = np.mean(y_train), np.std(y_train)\n",
    "y_train_normalized = (y_train - y_train_mean) / y_train_std\n",
    "y_test_normalized = (y_test - y_train_mean) / y_train_std\n",
    "\n",
    "# Add bias term\n",
    "x_train_normalized = np.c_[np.ones(x_train_normalized.shape[0]), x_train_normalized]\n",
    "x_test_normalized = np.c_[np.ones(x_test_normalized.shape[0]), x_test_normalized]"
   ]
  },
  {
   "cell_type": "markdown",
   "metadata": {},
   "source": [
    "- better r2= 0.56 at alpha =0.2 than r2= 0.3 at alpha=0.3"
   ]
  },
  {
   "cell_type": "code",
   "execution_count": null,
   "metadata": {},
   "outputs": [
    {
     "name": "stdout",
     "output_type": "stream",
     "text": [
      "Mean Squared Error (MSE): 49229448472.697235\n",
      "R-squared (R²): 0.527732432452328\n"
     ]
    },
    {
     "data": {
      "image/png": "[encoded data removed]",
      "text/plain": [
       "<Figure size 1000x600 with 1 Axes>"
      ]
     },
     "metadata": {},
     "output_type": "display_data"
    }
   ],
   "source": [
    "def linear_regression_gradient_descent_with_cost(x, y, learning_rate, num_iterations):\n",
    "    num_features = x.shape[1]\n",
    "    theta = np.zeros((num_features, 1))\n",
    "    cost_history = []\n",
    "\n",
    "    for i in range(num_iterations):\n",
    "        predictions = x.dot(theta)\n",
    "        error = predictions - y\n",
    "        cost = (1 / (2 * len(x))) * np.sum(error ** 2)\n",
    "        cost_history.append(cost)\n",
    "        gradient = (1 / len(x)) * x.T.dot(error)\n",
    "        theta -= learning_rate * gradient\n",
    "\n",
    "    return theta, cost_history\n",
    "\n",
    "def mean_squared_error(y_true, y_pred):\n",
    "    return np.mean((y_true - y_pred) ** 2)\n",
    "\n",
    "def r_squared(y_true, y_pred):\n",
    "    ss_total = np.sum((y_true - np.mean(y_true)) ** 2)\n",
    "    ss_residual = np.sum((y_true - y_pred) ** 2)\n",
    "    return 1 - (ss_residual / ss_total)\n",
    "\n",
    "\n",
    "# Train the model\n",
    "num_iterations = 100\n",
    "learning_rate = 0.1\n",
    "theta, cost_history = linear_regression_gradient_descent_with_cost(\n",
    "    x_train_normalized, y_train_normalized, learning_rate, num_iterations\n",
    ")\n",
    "\n",
    "# Make predictions\n",
    "y_pred_normalized = x_test_normalized.dot(theta)\n",
    "y_pred = y_pred_normalized * y_train_std + y_train_mean\n",
    "\n",
    "# Calculate metrics\n",
    "mse = mean_squared_error(y_test, y_pred)\n",
    "r2 = r_squared(y_test, y_pred)\n",
    "\n",
    "print(f\"Mean Squared Error (MSE): {mse}\")\n",
    "print(f\"R-squared (R²): {r2}\")\n",
    "\n",
    "# Plot cost vs iteration\n",
    "plt.figure(figsize=(10, 6))\n",
    "plt.plot(range(num_iterations), cost_history, label='Cost')\n",
    "plt.xlabel('Iteration')\n",
    "plt.ylabel('Cost (Mean Squared Error)')\n",
    "plt.title('Cost vs Iteration')\n",
    "plt.legend()\n",
    "plt.grid()\n",
    "plt.show()"
   ]
  }
 ],
 "metadata": {
  "kernelspec": {
   "display_name": "Python 3",
   "language": "python",
   "name": "python3"
  },
  "language_info": {
   "codemirror_mode": {
    "name": "ipython",
    "version": 3
   },
   "file_extension": ".py",
   "mimetype": "text/x-python",
   "name": "python",
   "nbconvert_exporter": "python",
   "pygments_lexer": "ipython3",
   "version": "3.12.6"
  }
 },
 "nbformat": 4,
 "nbformat_minor": 2
}
